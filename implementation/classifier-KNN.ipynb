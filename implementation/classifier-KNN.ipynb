{
 "cells": [
  {
   "cell_type": "markdown",
   "id": "e397325730b652e",
   "metadata": {
    "collapsed": false
   },
   "source": [
    "# Investigating the KNN algorithm as an alternative classifier"
   ]
  },
  {
   "cell_type": "code",
   "execution_count": 1,
   "id": "initial_id",
   "metadata": {
    "ExecuteTime": {
     "end_time": "2024-03-26T16:24:12.460674Z",
     "start_time": "2024-03-26T16:24:11.112895Z"
    },
    "collapsed": true
   },
   "outputs": [],
   "source": [
    "import torch\n",
    "import pandas as pd\n",
    "import os\n",
    "from torchvision.io import read_image\n",
    "from torchvision.transforms import v2\n",
    "from torch.utils.data import Dataset\n",
    "\n",
    "bean_annotations = pd.read_csv(\"data/beans.csv\")\n",
    "bean_annotations.head()\n",
    "DEFECT_CLASSES = dict(\n",
    "    [\n",
    "        (defect, index)\n",
    "        for (index, defect) in enumerate(pd.unique(bean_annotations[\"defect_class\"]))\n",
    "    ]\n",
    ")\n",
    "\n",
    "\n",
    "transform = v2.Compose(\n",
    "    [\n",
    "        v2.Resize(size=(400, 400)),\n",
    "        v2.ToDtype(\n",
    "            torch.float32, scale=True\n",
    "        ),  # Use float32 datatype to enable training on Apple silicon GPU\n",
    "        # v2.Grayscale(),\n",
    "        # v2.Normalize(mean=[0.485, 0.456, 0.406], std=[0.229, 0.224, 0.225]),\n",
    "    ]\n",
    ")"
   ]
  },
  {
   "cell_type": "code",
   "execution_count": 2,
   "id": "e674d6d81698d450",
   "metadata": {
    "ExecuteTime": {
     "end_time": "2024-03-26T16:24:14.743491Z",
     "start_time": "2024-03-26T16:24:14.738873Z"
    },
    "collapsed": false
   },
   "outputs": [],
   "source": [
    "class RoastDefectsDataset(Dataset):\n",
    "    def __init__(self, csv_file, root_dir, transform=None):\n",
    "        self.bean_annotations = pd.read_csv(csv_file)\n",
    "        self.root_dir = root_dir\n",
    "        self.transform = transform\n",
    "\n",
    "    def __len__(self):\n",
    "        return len(self.bean_annotations)\n",
    "\n",
    "    def get_labels(self):\n",
    "        return self.bean_annotations[\"defect_class\"]\n",
    "\n",
    "    def __getitem__(self, item):\n",
    "        if torch.is_tensor(item):\n",
    "            item = item.toList()\n",
    "\n",
    "        img_name = self.bean_annotations.iloc[item, 0]\n",
    "        img_dir = \"-\".join(img_name.split(\"-\")[0:4])\n",
    "        img_path = os.path.join(self.root_dir, img_dir, img_name)\n",
    "        image = read_image(img_path)\n",
    "\n",
    "        if self.transform:\n",
    "            image = self.transform(image)\n",
    "\n",
    "        annotations = DEFECT_CLASSES[\n",
    "            self.bean_annotations.iloc[item, 1:][\"defect_class\"]\n",
    "        ]\n",
    "        return image, annotations"
   ]
  },
  {
   "cell_type": "code",
   "execution_count": 3,
   "id": "b15c6b18a26b0fd4",
   "metadata": {
    "ExecuteTime": {
     "end_time": "2024-03-26T16:24:17.655603Z",
     "start_time": "2024-03-26T16:24:17.472831Z"
    },
    "collapsed": false
   },
   "outputs": [],
   "source": [
    "from sklearn.model_selection import train_test_split\n",
    "\n",
    "train, test = train_test_split(\n",
    "    bean_annotations,\n",
    "    test_size=0.2,\n",
    "    random_state=42,  # for repeatability\n",
    "    stratify=bean_annotations[\"defect_class\"],\n",
    ")"
   ]
  },
  {
   "cell_type": "code",
   "execution_count": 4,
   "id": "58ae12d13c97264a",
   "metadata": {
    "ExecuteTime": {
     "end_time": "2024-03-26T16:24:19.517033Z",
     "start_time": "2024-03-26T16:24:19.508264Z"
    },
    "collapsed": false
   },
   "outputs": [],
   "source": [
    "from torch.utils.data import DataLoader, SubsetRandomSampler\n",
    "\n",
    "dataset = RoastDefectsDataset(\n",
    "    csv_file=\"data/beans.csv\",\n",
    "    root_dir=\"data/processed-whitebg\",\n",
    "    transform=transform,\n",
    ")\n",
    "\n",
    "train_sampler = SubsetRandomSampler(list(train.index))\n",
    "test_sampler = SubsetRandomSampler(list(test.index))\n",
    "\n",
    "\n",
    "train_loader = DataLoader(dataset, sampler=train_sampler, batch_size=len(train))\n",
    "test_loader = DataLoader(dataset, sampler=test_sampler, batch_size=len(test))\n",
    "\n",
    "dataloaders = {\"test\": test_loader, \"train\": train_loader}\n",
    "dataset_sizes = {\"test\": len(test), \"train\": len(train)}"
   ]
  },
  {
   "cell_type": "markdown",
   "id": "47414256716a6388",
   "metadata": {
    "collapsed": false
   },
   "source": [
    "## Build datasets"
   ]
  },
  {
   "cell_type": "code",
   "execution_count": 5,
   "id": "7b248d79b12bbdc4",
   "metadata": {
    "ExecuteTime": {
     "end_time": "2024-03-26T16:24:29.672979Z",
     "start_time": "2024-03-26T16:24:21.945789Z"
    },
    "collapsed": false
   },
   "outputs": [],
   "source": [
    "X_train = []\n",
    "y_train = []\n",
    "X_test = []\n",
    "y_test = []\n",
    "for _, (data, label) in enumerate(train_loader):\n",
    "    X_train = data.squeeze()\n",
    "    y_train = label.squeeze()\n",
    "\n",
    "for _, (data, label) in enumerate(test_loader):\n",
    "    X_test = data.squeeze()\n",
    "    y_test = label.squeeze()"
   ]
  },
  {
   "cell_type": "markdown",
   "id": "f337d46f6d3f04a4",
   "metadata": {
    "collapsed": false
   },
   "source": [
    "## Dimensionality reduction attempt 1 - color histograms"
   ]
  },
  {
   "cell_type": "code",
   "execution_count": 39,
   "id": "5b73f8214854f146",
   "metadata": {
    "ExecuteTime": {
     "end_time": "2024-03-26T17:31:28.517360Z",
     "start_time": "2024-03-26T17:31:18.670267Z"
    },
    "collapsed": false
   },
   "outputs": [],
   "source": [
    "from skimage.exposure import histogram\n",
    "\n",
    "X_train_hists = [histogram(img.numpy(), nbins=32)[0] for img in X_train]\n",
    "X_test_hists = [histogram(img.numpy(), nbins=32)[0] for img in X_test]"
   ]
  },
  {
   "cell_type": "code",
   "execution_count": 26,
   "id": "3dee91d075b1a4d1",
   "metadata": {
    "ExecuteTime": {
     "end_time": "2024-03-26T16:45:53.245977Z",
     "start_time": "2024-03-26T16:45:47.771185Z"
    },
    "collapsed": false
   },
   "outputs": [
    {
     "name": "stdout",
     "output_type": "stream",
     "text": [
      "K =  1 accuracy:  0.7060931899641577\n",
      "K =  2 accuracy:  0.6612903225806451\n",
      "K =  3 accuracy:  0.7329749103942652\n",
      "K =  4 accuracy:  0.7347670250896058\n",
      "K =  5 accuracy:  0.7383512544802867\n",
      "K =  6 accuracy:  0.7437275985663082\n",
      "K =  7 accuracy:  0.7491039426523297\n",
      "K =  8 accuracy:  0.7419354838709677\n",
      "K =  9 accuracy:  0.7437275985663082\n",
      "K =  10 accuracy:  0.7419354838709677\n",
      "K =  11 accuracy:  0.7347670250896058\n",
      "K =  12 accuracy:  0.7347670250896058\n",
      "K =  13 accuracy:  0.7329749103942652\n",
      "K =  14 accuracy:  0.7329749103942652\n",
      "K =  15 accuracy:  0.7258064516129032\n",
      "K =  16 accuracy:  0.7293906810035843\n",
      "K =  17 accuracy:  0.7275985663082437\n",
      "K =  18 accuracy:  0.7258064516129032\n",
      "K =  19 accuracy:  0.7240143369175627\n",
      "K =  20 accuracy:  0.7329749103942652\n",
      "K =  21 accuracy:  0.7222222222222222\n",
      "K =  22 accuracy:  0.7329749103942652\n",
      "K =  23 accuracy:  0.7293906810035843\n",
      "K =  24 accuracy:  0.7311827956989247\n",
      "K =  25 accuracy:  0.7275985663082437\n",
      "K =  26 accuracy:  0.7311827956989247\n",
      "K =  27 accuracy:  0.7258064516129032\n",
      "K =  28 accuracy:  0.7275985663082437\n",
      "K =  29 accuracy:  0.7150537634408602\n"
     ]
    }
   ],
   "source": [
    "from sklearn.neighbors import KNeighborsClassifier\n",
    "from sklearn.metrics import classification_report\n",
    "\n",
    "for k in range(1, 30):\n",
    "    knn = KNeighborsClassifier(n_neighbors=k, metric=\"canberra\")\n",
    "    knn.fit(X_train_hists, y_train)\n",
    "    preds = knn.predict(X_test_hists)\n",
    "\n",
    "    print(\n",
    "        \"K = \",\n",
    "        k,\n",
    "        \"accuracy: \",\n",
    "        classification_report(\n",
    "            y_test,\n",
    "            preds,\n",
    "            zero_division=0,\n",
    "            target_names=DEFECT_CLASSES.keys(),\n",
    "            output_dict=True,\n",
    "        )[\"accuracy\"],\n",
    "    )\n",
    "\n",
    "    # print(classification_report(y_test, preds, zero_division=0, target_names=DEFECT_CLASSES.keys()))"
   ]
  },
  {
   "cell_type": "code",
   "execution_count": 54,
   "id": "823e0e6c78dadf4e",
   "metadata": {
    "ExecuteTime": {
     "end_time": "2024-03-26T20:22:30.084411Z",
     "start_time": "2024-03-26T20:22:29.723086Z"
    },
    "collapsed": false
   },
   "outputs": [
    {
     "name": "stdout",
     "output_type": "stream",
     "text": [
      "              precision    recall  f1-score   support\n",
      "\n",
      "       burnt      1.000     0.300     0.462        10\n",
      "      normal      0.777     0.916     0.841       263\n",
      "        frag      0.583     0.119     0.197        59\n",
      "       under      0.706     0.571     0.632        21\n",
      "      quaker      0.743     0.811     0.776       196\n",
      "insectOrMold      0.500     0.111     0.182         9\n",
      "\n",
      "    accuracy                          0.758       558\n",
      "   macro avg      0.718     0.471     0.515       558\n",
      "weighted avg      0.742     0.758     0.725       558\n"
     ]
    },
    {
     "data": {
      "text/plain": "<Axes: >"
     },
     "execution_count": 54,
     "metadata": {},
     "output_type": "execute_result"
    },
    {
     "data": {
      "image/png": "[encoded data removed]",
      "text/plain": "<Figure size 1200x900 with 2 Axes>"
     },
     "metadata": {},
     "output_type": "display_data"
    }
   ],
   "source": [
    "from torcheval.metrics import MulticlassConfusionMatrix\n",
    "import seaborn as sns\n",
    "import matplotlib.pyplot as plt\n",
    "\n",
    "DEFECT_CLASSES_PRINT_NAMES = {\n",
    "    \"burnt\": \"Burnt\",\n",
    "    \"normal\": \"Normal\",\n",
    "    \"frag\": \"Bean fragment\",\n",
    "    \"under\": \"Under roasted\",\n",
    "    \"quaker\": \"Quaker\",\n",
    "    \"insectOrMold\": \"Insect/mould\",\n",
    "}\n",
    "\n",
    "knn = KNeighborsClassifier(n_neighbors=7, metric=\"canberra\")\n",
    "knn.fit(X_train_hists, y_train)\n",
    "preds = knn.predict(X_test_hists)\n",
    "print(\n",
    "    classification_report(\n",
    "        y_test, preds, zero_division=0, target_names=DEFECT_CLASSES.keys(), digits=3\n",
    "    )\n",
    ")\n",
    "\n",
    "matrix = MulticlassConfusionMatrix(len(DEFECT_CLASSES))\n",
    "matrix.update(torch.tensor(preds), y_test)\n",
    "\n",
    "confs = matrix.compute()\n",
    "\n",
    "\n",
    "fig, ax = plt.subplots(figsize=(12, 9))\n",
    "sns.heatmap(\n",
    "    confs,\n",
    "    annot=True,  # write values in cells\n",
    "    cmap=\"vlag\",\n",
    "    xticklabels=[DEFECT_CLASSES_PRINT_NAMES[key] for key in DEFECT_CLASSES.keys()],\n",
    "    yticklabels=[DEFECT_CLASSES_PRINT_NAMES[key] for key in DEFECT_CLASSES.keys()],\n",
    "    ax=ax,\n",
    "    fmt=\"g\",  # annotate without using scientific notation\n",
    "    annot_kws={\"fontsize\": 24},\n",
    ")\n",
    "# plt.savefig(\"report/figures/results/KNN-1.png\")"
   ]
  },
  {
   "cell_type": "code",
   "execution_count": null,
   "id": "f74f4132654506a5",
   "metadata": {
    "collapsed": false
   },
   "outputs": [],
   "source": []
  }
 ],
 "metadata": {
  "kernelspec": {
   "display_name": "Python 3",
   "language": "python",
   "name": "python3"
  },
  "language_info": {
   "codemirror_mode": {
    "name": "ipython",
    "version": 2
   },
   "file_extension": ".py",
   "mimetype": "text/x-python",
   "name": "python",
   "nbconvert_exporter": "python",
   "pygments_lexer": "ipython2",
   "version": "2.7.6"
  }
 },
 "nbformat": 4,
 "nbformat_minor": 5
}
